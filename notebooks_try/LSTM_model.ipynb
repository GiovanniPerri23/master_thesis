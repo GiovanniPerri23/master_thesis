{
 "cells": [
  {
   "cell_type": "code",
   "execution_count": 1,
   "metadata": {},
   "outputs": [
    {
     "name": "stderr",
     "output_type": "stream",
     "text": [
      "2024-02-09 16:12:12.813994: I tensorflow/core/platform/cpu_feature_guard.cc:182] This TensorFlow binary is optimized to use available CPU instructions in performance-critical operations.\n",
      "To enable the following instructions: SSE3 SSE4.1 SSE4.2, in other operations, rebuild TensorFlow with the appropriate compiler flags.\n"
     ]
    }
   ],
   "source": [
    "import sys\n",
    "sys.path.append('/home/gperri-ext/master_thesis_tryout/')\n",
    "\n",
    "import os\n",
    "import pandas as pd\n",
    "import numpy as np\n",
    "import matplotlib.pyplot as plt\n",
    "import tensorflow as tf\n",
    "import keras_tuner as kt\n",
    "from tensorflow.keras.layers import Dense, LSTM, Conv1D, MaxPooling1D, ConvLSTM1D, TimeDistributed, Flatten, Dropout, RepeatVector, Activation, ReLU, BatchNormalization\n",
    "from tensorflow.keras.callbacks import ModelCheckpoint, EarlyStopping\n",
    "from keras.preprocessing.sequence import TimeseriesGenerator\n",
    "from sklearn.preprocessing import LabelEncoder, StandardScaler, MinMaxScaler\n",
    "from sklearn.model_selection import train_test_split\n",
    "\n",
    "\n",
    "from models.evaluation_func import single_timeseries_evaluation_metrics_func, visual_single_timeseries_evaluation_metrics_func, evaluate_and_plot_timeseries\n",
    "from models.visualization import plot_model_loss, plot_error_metrics_barchart, plot_model_rmse_and_loss\n",
    "from models.windowing_data import multivariate_data, prepare_data\n",
    "from models.temp_features import make_yearly_dataset, create_cyclic_features, transform_time_features\n",
    "\n",
    "from tensorflow import keras, config\n",
    "from keras import layers\n",
    "\n",
    "physical_devices = config.list_physical_devices('GPU') \n",
    "try:\n",
    "    config.experimental.set_memory_growth(physical_devices[0], True)\n",
    "except:\n",
    "    pass\n",
    "\n",
    "%matplotlib inline\n"
   ]
  },
  {
   "cell_type": "markdown",
   "metadata": {},
   "source": [
    "### Importing data"
   ]
  },
  {
   "cell_type": "code",
   "execution_count": 3,
   "metadata": {},
   "outputs": [],
   "source": [
    "data_folder = \"/home/gperri-ext/master_thesis_tryout/data\"\n",
    "file_name = \"all_data.csv\"\n",
    "\n",
    "try:\n",
    "    file_path = os.path.join(data_folder, file_name)\n",
    "    df = pd.read_csv(file_path)\n",
    "    \n",
    "except FileNotFoundError:\n",
    "    print(\"File not found. Please provide the correct path to the data folder.\")"
   ]
  },
  {
   "cell_type": "code",
   "execution_count": 4,
   "metadata": {},
   "outputs": [],
   "source": [
    "df.set_index('Time_data', inplace=True)\n",
    "df.index = pd.to_datetime(df.index)"
   ]
  },
  {
   "cell_type": "code",
   "execution_count": 5,
   "metadata": {},
   "outputs": [],
   "source": [
    "# Separate features inputs\n",
    "df_PUN = df.iloc[:, :3]\n",
    "df_GAS = df.iloc[:, :5]\n",
    "df_total_load = df.iloc[:, :7]\n",
    "df_PUN7 = df.iloc[:,:2]\n",
    "df_total_load_f = df_total_load.iloc[:,:-1]"
   ]
  },
  {
   "cell_type": "markdown",
   "metadata": {},
   "source": [
    "### Preparing I/O"
   ]
  },
  {
   "cell_type": "code",
   "execution_count": null,
   "metadata": {},
   "outputs": [],
   "source": [
    "# df.columns\n",
    "# df_temp = df[['PUN','PUN_d+1-7','GAS','GiornoSettimana', 'Ora', 'holiday']]"
   ]
  },
  {
   "cell_type": "code",
   "execution_count": 9,
   "metadata": {},
   "outputs": [
    {
     "name": "stdout",
     "output_type": "stream",
     "text": [
      "                              PUN  PUN_d+1-7  PUN_d+1-14    GAS  GAS_d+1-7   \n",
      "Time_data                                                                    \n",
      "2023-11-07 19:00:00+00:00  167.02     158.11      142.35  42.15      38.54  \\\n",
      "2023-11-07 20:00:00+00:00  132.16     146.76      130.55  42.15      38.54   \n",
      "2023-11-07 21:00:00+00:00  127.06     121.55      130.55  42.15      38.54   \n",
      "2023-11-07 22:00:00+00:00  123.44      85.54      129.70  42.15      38.54   \n",
      "2023-11-07 23:00:00+00:00  118.79      41.75      129.42  42.15      38.54   \n",
      "\n",
      "                           Total_load_f  Total_Load_d+1-7  GiornoSettimana   \n",
      "Time_data                                                                    \n",
      "2023-11-07 19:00:00+00:00       42197.0          36289.52                1  \\\n",
      "2023-11-07 20:00:00+00:00       40003.0          34429.66                1   \n",
      "2023-11-07 21:00:00+00:00       37063.0          31412.46                1   \n",
      "2023-11-07 22:00:00+00:00       33188.0          28461.51                1   \n",
      "2023-11-07 23:00:00+00:00       30031.0          25871.82                1   \n",
      "\n",
      "                           Ora  holiday  \n",
      "Time_data                                \n",
      "2023-11-07 19:00:00+00:00   20        0  \n",
      "2023-11-07 20:00:00+00:00   21        0  \n",
      "2023-11-07 21:00:00+00:00   22        0  \n",
      "2023-11-07 22:00:00+00:00   23        0  \n",
      "2023-11-07 23:00:00+00:00   24        0  \n"
     ]
    }
   ],
   "source": [
    "# Choose dataset input\n",
    "dataset_input = make_yearly_dataset(df, 2022, 2023)\n",
    "print(dataset_input.tail(5))"
   ]
  },
  {
   "cell_type": "code",
   "execution_count": 10,
   "metadata": {},
   "outputs": [],
   "source": [
    "target_size = 24\n",
    "past_history = 24\n",
    "train_size = 0.7\n",
    "test_size = 0.3\n",
    "\n",
    "train_index = int(len(dataset_input) * train_size)\n",
    "test_index = train_index + int(len(dataset_input) * test_size)"
   ]
  },
  {
   "cell_type": "code",
   "execution_count": 11,
   "metadata": {},
   "outputs": [],
   "source": [
    "univariate=False\n",
    "\n",
    "X, y = prepare_data(dataset_input, univariate=univariate)"
   ]
  },
  {
   "cell_type": "code",
   "execution_count": 12,
   "metadata": {},
   "outputs": [],
   "source": [
    "# Utilizza due scaler diversi per evitare bias\n",
    "X_sc = MinMaxScaler()\n",
    "y_sc = MinMaxScaler()\n",
    "\n",
    "X_sc.fit(X[:train_index])\n",
    "y_sc.fit(y[:train_index])\n",
    "\n",
    "X_norm = X_sc.transform(X)\n",
    "y_norm = y_sc.transform(y)\n",
    "\n",
    "\n",
    "y_norm = y_norm.squeeze()\n"
   ]
  },
  {
   "cell_type": "code",
   "execution_count": 13,
   "metadata": {},
   "outputs": [
    {
     "name": "stdout",
     "output_type": "stream",
     "text": [
      "X_train shape: (11356, 24, 10)\n",
      "y_train shape: (11356, 24)\n",
      "X_test shape: (4798, 24, 10)\n",
      "y_test shape: (4798, 24)\n"
     ]
    }
   ],
   "source": [
    "step = 1\n",
    "\n",
    "# Prepara i dati utilizzando la funzione multivariate_data\n",
    "X_train, y_train = multivariate_data(X_norm, y_norm,\n",
    "                                        0, train_index, past_history,\n",
    "                                        target_size, step=step, single_step=False)\n",
    "\n",
    "X_test, y_test = multivariate_data(X_norm, y_norm,\n",
    "                                    train_index, test_index, past_history,\n",
    "                                    target_size, step=step, single_step=False)\n",
    "\n",
    "# Stampa le dimensioni dei dati\n",
    "print(\"X_train shape:\", X_train.shape)\n",
    "print(\"y_train shape:\", y_train.shape)\n",
    "print(\"X_test shape:\", X_test.shape)\n",
    "print(\"y_test shape:\", y_test.shape)\n",
    "\n"
   ]
  },
  {
   "cell_type": "code",
   "execution_count": 14,
   "metadata": {},
   "outputs": [],
   "source": [
    "y_test_inv = y_sc.inverse_transform(y_test)\n",
    "input_shape = X_train.shape[-2:]\n"
   ]
  },
  {
   "cell_type": "markdown",
   "metadata": {},
   "source": [
    "#### Single Trial"
   ]
  },
  {
   "cell_type": "code",
   "execution_count": 15,
   "metadata": {},
   "outputs": [
    {
     "name": "stderr",
     "output_type": "stream",
     "text": [
      "2024-02-09 16:13:34.671806: I tensorflow/core/common_runtime/gpu/gpu_device.cc:1639] Created device /job:localhost/replica:0/task:0/device:GPU:0 with 11539 MB memory:  -> device: 0, name: NVIDIA TITAN Xp, pci bus id: 0000:03:00.0, compute capability: 6.1\n"
     ]
    }
   ],
   "source": [
    "tf.keras.backend.clear_session()\n",
    "\n",
    "# Crea il modello LSTM\n",
    "model = tf.keras.Sequential()\n",
    "# return_sequences: Boolean. Whether to return the last output in the output sequence, \n",
    "# or the full sequence. Default: False.\n",
    "model.add(LSTM(100, input_shape=(X_train.shape[1], X_train.shape[2])))\n",
    "model.add(Dropout(0.2))\n",
    "\n",
    "# model.add(LSTM(150))\n",
    "# model.add(Dropout(0.2))\n",
    "\n",
    "model.add(Dense(y_train.shape[1]))  # Output layer ha un neurone per ogni ora da prevedere\n"
   ]
  },
  {
   "cell_type": "code",
   "execution_count": 16,
   "metadata": {},
   "outputs": [
    {
     "name": "stdout",
     "output_type": "stream",
     "text": [
      "Epoch 1/40\n"
     ]
    },
    {
     "name": "stderr",
     "output_type": "stream",
     "text": [
      "2024-02-09 16:13:37.423081: I tensorflow/compiler/xla/stream_executor/cuda/cuda_dnn.cc:432] Loaded cuDNN version 8900\n",
      "2024-02-09 16:13:37.474711: I tensorflow/compiler/xla/service/service.cc:168] XLA service 0x55deddb5b620 initialized for platform CUDA (this does not guarantee that XLA will be used). Devices:\n",
      "2024-02-09 16:13:37.474756: I tensorflow/compiler/xla/service/service.cc:176]   StreamExecutor device (0): NVIDIA TITAN Xp, Compute Capability 6.1\n",
      "2024-02-09 16:13:37.487309: I tensorflow/compiler/mlir/tensorflow/utils/dump_mlir_util.cc:255] disabling MLIR crash reproducer, set env var `MLIR_CRASH_REPRODUCER_DIRECTORY` to enable.\n",
      "2024-02-09 16:13:37.627980: I tensorflow/tsl/platform/default/subprocess.cc:304] Start cannot spawn child process: No such file or directory\n",
      "2024-02-09 16:13:37.728917: I ./tensorflow/compiler/jit/device_compiler.h:186] Compiled cluster using XLA!  This line is logged at most once for the lifetime of the process.\n"
     ]
    },
    {
     "name": "stdout",
     "output_type": "stream",
     "text": [
      "142/142 [==============================] - 5s 14ms/step - loss: 0.0158 - val_loss: 0.0015\n",
      "Epoch 2/40\n",
      "142/142 [==============================] - 1s 9ms/step - loss: 0.0065 - val_loss: 0.0013\n",
      "Epoch 3/40\n",
      "142/142 [==============================] - 1s 9ms/step - loss: 0.0055 - val_loss: 0.0012\n",
      "Epoch 4/40\n",
      "142/142 [==============================] - 1s 9ms/step - loss: 0.0048 - val_loss: 0.0012\n",
      "Epoch 5/40\n",
      "142/142 [==============================] - 1s 7ms/step - loss: 0.0044 - val_loss: 0.0011\n",
      "Epoch 6/40\n",
      "142/142 [==============================] - 1s 9ms/step - loss: 0.0037 - val_loss: 8.4075e-04\n",
      "Epoch 7/40\n",
      "142/142 [==============================] - 1s 9ms/step - loss: 0.0032 - val_loss: 7.3783e-04\n",
      "Epoch 8/40\n",
      "142/142 [==============================] - 1s 9ms/step - loss: 0.0030 - val_loss: 6.8341e-04\n",
      "Epoch 9/40\n",
      "142/142 [==============================] - 1s 9ms/step - loss: 0.0028 - val_loss: 6.7320e-04\n",
      "Epoch 10/40\n",
      "142/142 [==============================] - 1s 9ms/step - loss: 0.0027 - val_loss: 6.6811e-04\n",
      "Epoch 11/40\n",
      "142/142 [==============================] - 1s 9ms/step - loss: 0.0026 - val_loss: 7.7986e-04\n",
      "Epoch 12/40\n",
      "142/142 [==============================] - 1s 9ms/step - loss: 0.0025 - val_loss: 6.3370e-04\n",
      "Epoch 13/40\n",
      "142/142 [==============================] - 1s 8ms/step - loss: 0.0024 - val_loss: 6.1840e-04\n",
      "Epoch 14/40\n",
      "142/142 [==============================] - 1s 10ms/step - loss: 0.0024 - val_loss: 6.1512e-04\n",
      "Epoch 15/40\n",
      "142/142 [==============================] - 1s 10ms/step - loss: 0.0023 - val_loss: 6.7992e-04\n",
      "Epoch 16/40\n",
      "142/142 [==============================] - 1s 10ms/step - loss: 0.0023 - val_loss: 8.4666e-04\n",
      "Epoch 17/40\n",
      "142/142 [==============================] - 1s 10ms/step - loss: 0.0023 - val_loss: 7.4790e-04\n",
      "Epoch 18/40\n",
      "142/142 [==============================] - 1s 9ms/step - loss: 0.0022 - val_loss: 6.1223e-04\n",
      "Epoch 19/40\n",
      "142/142 [==============================] - 1s 9ms/step - loss: 0.0022 - val_loss: 6.6707e-04\n"
     ]
    }
   ],
   "source": [
    "# Definisci il callback EarlyStopping\n",
    "early_stopping = EarlyStopping(monitor='val_loss', patience=7, min_delta=0.0002, restore_best_weights=True)\n",
    "\n",
    "model.compile(optimizer='adam', loss='mean_squared_error')\n",
    "univariate_history = model.fit(X_train, y_train, epochs=40,\n",
    "                                batch_size=64, validation_split=0.2, \n",
    "                                callbacks = [early_stopping])\n",
    "\n",
    "# A batch of data is a fixed-sized number of rows from the training dataset that defines\n",
    "# how many patterns to process before updating the weights of the network"
   ]
  },
  {
   "cell_type": "code",
   "execution_count": 17,
   "metadata": {},
   "outputs": [
    {
     "data": {
      "image/png": "[encoded data removed]",
      "text/plain": [
       "<Figure size 1600x800 with 1 Axes>"
      ]
     },
     "metadata": {},
     "output_type": "display_data"
    }
   ],
   "source": [
    "plot_model_loss(univariate_history)"
   ]
  },
  {
   "cell_type": "code",
   "execution_count": 18,
   "metadata": {},
   "outputs": [
    {
     "name": "stdout",
     "output_type": "stream",
     "text": [
      "150/150 [==============================] - 1s 4ms/step - loss: 4.1549e-04\n",
      "Errore quadratico medio: 0.0004154937050770968\n",
      "150/150 [==============================] - 1s 4ms/step\n"
     ]
    }
   ],
   "source": [
    "# Valuta il modello\n",
    "loss = model.evaluate(X_test, y_test)\n",
    "print(f'Errore quadratico medio: {loss}')\n",
    "\n",
    "# Fai previsioni per il test set\n",
    "forecast = model.predict(X_test)\n",
    "\n",
    "# Denormalizza le previsioni\n",
    "uni_lstm_forecast = y_sc.inverse_transform(forecast)\n",
    "\n"
   ]
  },
  {
   "cell_type": "code",
   "execution_count": 20,
   "metadata": {},
   "outputs": [
    {
     "data": {
      "text/plain": [
       "False"
      ]
     },
     "execution_count": 20,
     "metadata": {},
     "output_type": "execute_result"
    }
   ],
   "source": [
    "univariate"
   ]
  },
  {
   "cell_type": "code",
   "execution_count": 23,
   "metadata": {},
   "outputs": [],
   "source": [
    "if univariate:\n",
    "    y_test_inv_uni = y_sc.inverse_transform(y_test.squeeze(-1))\n",
    "else: \n",
    "    y_test_inv_uni = y_sc.inverse_transform(y_test)"
   ]
  },
  {
   "cell_type": "code",
   "execution_count": null,
   "metadata": {},
   "outputs": [],
   "source": [
    "# forflat = uni_lstm_forecast.flatten()"
   ]
  },
  {
   "cell_type": "code",
   "execution_count": 24,
   "metadata": {},
   "outputs": [],
   "source": [
    "uni_table = evaluate_and_plot_timeseries(y_test_inv_uni, uni_lstm_forecast, show_plot=False)"
   ]
  },
  {
   "cell_type": "code",
   "execution_count": 25,
   "metadata": {},
   "outputs": [
    {
     "name": "stdout",
     "output_type": "stream",
     "text": [
      "Min NMAE: 0.107 for Column: 0.0\n",
      "Min RMSE: 16.188 for Column: 0.0\n",
      "Min MAPE: 14.112 for Column: 0.0\n",
      "(0.107, 16.188, 14.112)\n"
     ]
    },
    {
     "data": {
      "image/png": "[encoded data removed]",
      "text/plain": [
       "<Figure size 1600x400 with 2 Axes>"
      ]
     },
     "metadata": {},
     "output_type": "display_data"
    }
   ],
   "source": [
    "plot_error_metrics_barchart(uni_table)"
   ]
  },
  {
   "cell_type": "code",
   "execution_count": null,
   "metadata": {},
   "outputs": [],
   "source": []
  },
  {
   "cell_type": "markdown",
   "metadata": {},
   "source": [
    "##### Prova SHAP"
   ]
  },
  {
   "cell_type": "code",
   "execution_count": null,
   "metadata": {},
   "outputs": [],
   "source": [
    "'''Ideas taken from https://www.kaggle.com/code/ltsmssv/shap-for-lstm-hpccv2/notebook'''"
   ]
  },
  {
   "cell_type": "code",
   "execution_count": 26,
   "metadata": {},
   "outputs": [],
   "source": [
    "# !pip install shap\n",
    "import shap"
   ]
  },
  {
   "cell_type": "code",
   "execution_count": 32,
   "metadata": {},
   "outputs": [
    {
     "data": {
      "text/plain": [
       "<keras.src.engine.sequential.Sequential at 0x7f1322593b80>"
      ]
     },
     "execution_count": 32,
     "metadata": {},
     "output_type": "execute_result"
    }
   ],
   "source": [
    "model"
   ]
  },
  {
   "cell_type": "code",
   "execution_count": 33,
   "metadata": {},
   "outputs": [
    {
     "name": "stderr",
     "output_type": "stream",
     "text": [
      "Your TensorFlow version is newer than 2.4.0 and so graph support has been removed in eager mode and some static graphs may not be supported. See PR #1483 for discussion.\n"
     ]
    }
   ],
   "source": [
    "# we use the first 100 training examples as our background dataset to integrate over\n",
    "explainer = shap.DeepExplainer(model, X_train[:100])"
   ]
  },
  {
   "cell_type": "code",
   "execution_count": 36,
   "metadata": {},
   "outputs": [
    {
     "name": "stdout",
     "output_type": "stream",
     "text": [
      "Help on DeepExplainer in module shap.explainers._deep object:\n",
      "\n",
      "class DeepExplainer(shap.explainers._explainer.Explainer)\n",
      " |  DeepExplainer(model, data, session=None, learning_phase_flags=None)\n",
      " |  \n",
      " |  Meant to approximate SHAP values for deep learning models.\n",
      " |  \n",
      " |  This is an enhanced version of the DeepLIFT algorithm (Deep SHAP) where, similar to Kernel SHAP, we\n",
      " |  approximate the conditional expectations of SHAP values using a selection of background samples.\n",
      " |  Lundberg and Lee, NIPS 2017 showed that the per node attribution rules in DeepLIFT (Shrikumar,\n",
      " |  Greenside, and Kundaje, arXiv 2017) can be chosen to approximate Shapley values. By integrating\n",
      " |  over many background samples Deep estimates approximate SHAP values such that they sum\n",
      " |  up to the difference between the expected model output on the passed background samples and the\n",
      " |  current model output (f(x) - E[f(x)]).\n",
      " |  \n",
      " |  Examples\n",
      " |  --------\n",
      " |  See :ref:`Deep Explainer Examples <deep_explainer_examples>`\n",
      " |  \n",
      " |  Method resolution order:\n",
      " |      DeepExplainer\n",
      " |      shap.explainers._explainer.Explainer\n",
      " |      shap._serializable.Serializable\n",
      " |      builtins.object\n",
      " |  \n",
      " |  Methods defined here:\n",
      " |  \n",
      " |  __init__(self, model, data, session=None, learning_phase_flags=None)\n",
      " |      An explainer object for a differentiable model using a given background dataset.\n",
      " |      \n",
      " |      Note that the complexity of the method scales linearly with the number of background data\n",
      " |      samples. Passing the entire training dataset as `data` will give very accurate expected\n",
      " |      values, but be unreasonably expensive. The variance of the expectation estimates scale by\n",
      " |      roughly 1/sqrt(N) for N background data samples. So 100 samples will give a good estimate,\n",
      " |      and 1000 samples a very good estimate of the expected values.\n",
      " |      \n",
      " |      Parameters\n",
      " |      ----------\n",
      " |      model : if framework == 'tensorflow', (input : [tf.Tensor], output : tf.Tensor)\n",
      " |           A pair of TensorFlow tensors (or a list and a tensor) that specifies the input and\n",
      " |          output of the model to be explained. Note that SHAP values are specific to a single\n",
      " |          output value, so the output tf.Tensor should be a single dimensional output (,1).\n",
      " |      \n",
      " |          if framework == 'pytorch', an nn.Module object (model), or a tuple (model, layer),\n",
      " |              where both are nn.Module objects\n",
      " |          The model is an nn.Module object which takes as input a tensor (or list of tensors) of\n",
      " |          shape data, and returns a single dimensional output.\n",
      " |          If the input is a tuple, the returned shap values will be for the input of the\n",
      " |          layer argument. layer must be a layer in the model, i.e. model.conv2\n",
      " |      \n",
      " |      data :\n",
      " |          if framework == 'tensorflow': [numpy.array] or [pandas.DataFrame]\n",
      " |          if framework == 'pytorch': [torch.tensor]\n",
      " |          The background dataset to use for integrating out features. Deep integrates\n",
      " |          over these samples. The data passed here must match the input tensors given in the\n",
      " |          first argument. Note that since these samples are integrated over for each sample you\n",
      " |          should only something like 100 or 1000 random background samples, not the whole training\n",
      " |          dataset.\n",
      " |      \n",
      " |      if framework == 'tensorflow':\n",
      " |      \n",
      " |      session : None or tensorflow.Session\n",
      " |          The TensorFlow session that has the model we are explaining. If None is passed then\n",
      " |          we do our best to find the right session, first looking for a keras session, then\n",
      " |          falling back to the default TensorFlow session.\n",
      " |      \n",
      " |      learning_phase_flags : None or list of tensors\n",
      " |          If you have your own custom learning phase flags pass them here. When explaining a prediction\n",
      " |          we need to ensure we are not in training mode, since this changes the behavior of ops like\n",
      " |          batch norm or dropout. If None is passed then we look for tensors in the graph that look like\n",
      " |          learning phase flags (this works for Keras models). Note that we assume all the flags should\n",
      " |          have a value of False during predictions (and hence explanations).\n",
      " |  \n",
      " |  shap_values(self, X, ranked_outputs=None, output_rank_order='max', check_additivity=True)\n",
      " |      Return approximate SHAP values for the model applied to the data given by X.\n",
      " |      \n",
      " |      Parameters\n",
      " |      ----------\n",
      " |      X : list,\n",
      " |          if framework == 'tensorflow': numpy.array, or pandas.DataFrame\n",
      " |          if framework == 'pytorch': torch.tensor\n",
      " |          A tensor (or list of tensors) of samples (where X.shape[0] == # samples) on which to\n",
      " |          explain the model's output.\n",
      " |      \n",
      " |      ranked_outputs : None or int\n",
      " |          If ranked_outputs is None then we explain all the outputs in a multi-output model. If\n",
      " |          ranked_outputs is a positive integer then we only explain that many of the top model\n",
      " |          outputs (where \"top\" is determined by output_rank_order). Note that this causes a pair\n",
      " |          of values to be returned (shap_values, indexes), where shap_values is a list of numpy\n",
      " |          arrays for each of the output ranks, and indexes is a matrix that indicates for each sample\n",
      " |          which output indexes were choses as \"top\".\n",
      " |      \n",
      " |      output_rank_order : \"max\", \"min\", or \"max_abs\"\n",
      " |          How to order the model outputs when using ranked_outputs, either by maximum, minimum, or\n",
      " |          maximum absolute value.\n",
      " |      \n",
      " |      Returns\n",
      " |      -------\n",
      " |      array or list\n",
      " |          For a models with a single output this returns a tensor of SHAP values with the same shape\n",
      " |          as X. For a model with multiple outputs this returns a list of SHAP value tensors, each of\n",
      " |          which are the same shape as X. If ranked_outputs is None then this list of tensors matches\n",
      " |          the number of model outputs. If ranked_outputs is a positive integer a pair is returned\n",
      " |          (shap_values, indexes), where shap_values is a list of tensors with a length of\n",
      " |          ranked_outputs, and indexes is a matrix that indicates for each sample which output indexes\n",
      " |          were chosen as \"top\".\n",
      " |  \n",
      " |  ----------------------------------------------------------------------\n",
      " |  Methods inherited from shap.explainers._explainer.Explainer:\n",
      " |  \n",
      " |  __call__(self, *args, max_evals='auto', main_effects=False, error_bounds=False, batch_size='auto', outputs=None, silent=False, **kwargs)\n",
      " |      Explains the output of model(*args), where args is a list of parallel iterable datasets.\n",
      " |      \n",
      " |      Note this default version could be an abstract method that is implemented by each algorithm-specific\n",
      " |      subclass of Explainer. Descriptions of each subclasses' __call__ arguments\n",
      " |      are available in their respective doc-strings.\n",
      " |  \n",
      " |  explain_row(self, *row_args, max_evals, main_effects, error_bounds, outputs, silent, **kwargs)\n",
      " |      Explains a single row and returns the tuple (row_values, row_expected_values, row_mask_shapes, main_effects).\n",
      " |      \n",
      " |      This is an abstract method meant to be implemented by each subclass.\n",
      " |      \n",
      " |      Returns\n",
      " |      -------\n",
      " |      tuple\n",
      " |          A tuple of (row_values, row_expected_values, row_mask_shapes), where row_values is an array of the\n",
      " |          attribution values for each sample, row_expected_values is an array (or single value) representing\n",
      " |          the expected value of the model for each sample (which is the same for all samples unless there\n",
      " |          are fixed inputs present, like labels when explaining the loss), and row_mask_shapes is a list\n",
      " |          of all the input shapes (since the row_values is always flattened),\n",
      " |  \n",
      " |  save(self, out_file, model_saver='.save', masker_saver='.save')\n",
      " |      Write the explainer to the given file stream.\n",
      " |  \n",
      " |  ----------------------------------------------------------------------\n",
      " |  Class methods inherited from shap.explainers._explainer.Explainer:\n",
      " |  \n",
      " |  load(in_file, model_loader=<bound method Model.load of <class 'shap.models._model.Model'>>, masker_loader=<bound method Serializable.load of <class 'shap.maskers._masker.Masker'>>, instantiate=True) from builtins.type\n",
      " |      Load an Explainer from the given file stream.\n",
      " |      \n",
      " |      Parameters\n",
      " |      ----------\n",
      " |      in_file : The file stream to load objects from.\n",
      " |  \n",
      " |  ----------------------------------------------------------------------\n",
      " |  Static methods inherited from shap.explainers._explainer.Explainer:\n",
      " |  \n",
      " |  supports_model_with_masker(model, masker)\n",
      " |      Determines if this explainer can handle the given model.\n",
      " |      \n",
      " |      This is an abstract static method meant to be implemented by each subclass.\n",
      " |  \n",
      " |  ----------------------------------------------------------------------\n",
      " |  Data descriptors inherited from shap._serializable.Serializable:\n",
      " |  \n",
      " |  __dict__\n",
      " |      dictionary for instance variables (if defined)\n",
      " |  \n",
      " |  __weakref__\n",
      " |      list of weak references to the object (if defined)\n",
      "\n"
     ]
    }
   ],
   "source": [
    "help(explainer)"
   ]
  },
  {
   "cell_type": "code",
   "execution_count": 40,
   "metadata": {},
   "outputs": [
    {
     "name": "stderr",
     "output_type": "stream",
     "text": [
      "`tf.keras.backend.set_learning_phase` is deprecated and will be removed after 2020-10-11. To update it, simply pass a True/False value to the `training` argument of the `__call__` method of your layer or model.\n"
     ]
    },
    {
     "ename": "AttributeError",
     "evalue": "in user code:\n\n    File \"/home/gperri-ext/.local/lib/python3.10/site-packages/shap/explainers/_deep/deep_tf.py\", line 247, in grad_graph  *\n        out = self.model(shap_rAnD)\n    File \"/usr/local/lib/python3.10/dist-packages/keras/src/utils/traceback_utils.py\", line 70, in error_handler  **\n        raise e.with_traceback(filtered_tb) from None\n    File \"/home/gperri-ext/.local/lib/python3.10/site-packages/shap/explainers/_deep/deep_tf.py\", line 370, in custom_grad\n        out = op_handlers[type_name](self, op, *grads) # we cut off the shap_ prefix before the lookup\n    File \"/home/gperri-ext/.local/lib/python3.10/site-packages/shap/explainers/_deep/deep_tf.py\", line 662, in handler\n        return linearity_with_excluded_handler(input_inds, explainer, op, *grads)\n    File \"/home/gperri-ext/.local/lib/python3.10/site-packages/shap/explainers/_deep/deep_tf.py\", line 669, in linearity_with_excluded_handler\n        assert not explainer._variable_inputs(op)[i], str(i) + \"th input to \" + op.name + \" cannot vary!\"\n    File \"/home/gperri-ext/.local/lib/python3.10/site-packages/shap/explainers/_deep/deep_tf.py\", line 224, in _variable_inputs\n        out[i] = t.name in self.between_tensors\n\n    AttributeError: Exception encountered when calling layer 'lstm' (type LSTM).\n    \n    'TFDeep' object has no attribute 'between_tensors'\n    \n    Call arguments received by layer 'lstm' (type LSTM):\n      • inputs=tf.Tensor(shape=(200, 24, 10), dtype=float32)\n      • mask=None\n      • training=False\n      • initial_state=None\n",
     "output_type": "error",
     "traceback": [
      "\u001b[0;31m---------------------------------------------------------------------------\u001b[0m",
      "\u001b[0;31mAttributeError\u001b[0m                            Traceback (most recent call last)",
      "Cell \u001b[0;32mIn[40], line 3\u001b[0m\n\u001b[1;32m      1\u001b[0m \u001b[38;5;66;03m# explain the first 10 predictions\u001b[39;00m\n\u001b[1;32m      2\u001b[0m \u001b[38;5;66;03m# explaining each prediction requires 2 * background dataset size runs\u001b[39;00m\n\u001b[0;32m----> 3\u001b[0m shap_values \u001b[38;5;241m=\u001b[39m \u001b[43mexplainer\u001b[49m\u001b[38;5;241;43m.\u001b[39;49m\u001b[43mshap_values\u001b[49m\u001b[43m(\u001b[49m\u001b[43mX_test\u001b[49m\u001b[43m[\u001b[49m\u001b[43m:\u001b[49m\u001b[38;5;241;43m10\u001b[39;49m\u001b[43m]\u001b[49m\u001b[43m)\u001b[49m\n",
      "File \u001b[0;32m~/.local/lib/python3.10/site-packages/shap/explainers/_deep/__init__.py:125\u001b[0m, in \u001b[0;36mDeepExplainer.shap_values\u001b[0;34m(self, X, ranked_outputs, output_rank_order, check_additivity)\u001b[0m\n\u001b[1;32m     91\u001b[0m \u001b[38;5;28;01mdef\u001b[39;00m \u001b[38;5;21mshap_values\u001b[39m(\u001b[38;5;28mself\u001b[39m, X, ranked_outputs\u001b[38;5;241m=\u001b[39m\u001b[38;5;28;01mNone\u001b[39;00m, output_rank_order\u001b[38;5;241m=\u001b[39m\u001b[38;5;124m'\u001b[39m\u001b[38;5;124mmax\u001b[39m\u001b[38;5;124m'\u001b[39m, check_additivity\u001b[38;5;241m=\u001b[39m\u001b[38;5;28;01mTrue\u001b[39;00m):\n\u001b[1;32m     92\u001b[0m \u001b[38;5;250m    \u001b[39m\u001b[38;5;124;03m\"\"\" Return approximate SHAP values for the model applied to the data given by X.\u001b[39;00m\n\u001b[1;32m     93\u001b[0m \n\u001b[1;32m     94\u001b[0m \u001b[38;5;124;03m    Parameters\u001b[39;00m\n\u001b[0;32m   (...)\u001b[0m\n\u001b[1;32m    123\u001b[0m \u001b[38;5;124;03m        were chosen as \"top\".\u001b[39;00m\n\u001b[1;32m    124\u001b[0m \u001b[38;5;124;03m    \"\"\"\u001b[39;00m\n\u001b[0;32m--> 125\u001b[0m     \u001b[38;5;28;01mreturn\u001b[39;00m \u001b[38;5;28;43mself\u001b[39;49m\u001b[38;5;241;43m.\u001b[39;49m\u001b[43mexplainer\u001b[49m\u001b[38;5;241;43m.\u001b[39;49m\u001b[43mshap_values\u001b[49m\u001b[43m(\u001b[49m\u001b[43mX\u001b[49m\u001b[43m,\u001b[49m\u001b[43m \u001b[49m\u001b[43mranked_outputs\u001b[49m\u001b[43m,\u001b[49m\u001b[43m \u001b[49m\u001b[43moutput_rank_order\u001b[49m\u001b[43m,\u001b[49m\u001b[43m \u001b[49m\u001b[43mcheck_additivity\u001b[49m\u001b[38;5;241;43m=\u001b[39;49m\u001b[43mcheck_additivity\u001b[49m\u001b[43m)\u001b[49m\n",
      "File \u001b[0;32m~/.local/lib/python3.10/site-packages/shap/explainers/_deep/deep_tf.py:313\u001b[0m, in \u001b[0;36mTFDeep.shap_values\u001b[0;34m(self, X, ranked_outputs, output_rank_order, check_additivity)\u001b[0m\n\u001b[1;32m    311\u001b[0m \u001b[38;5;66;03m# run attribution computation graph\u001b[39;00m\n\u001b[1;32m    312\u001b[0m feature_ind \u001b[38;5;241m=\u001b[39m model_output_ranks[j,i]\n\u001b[0;32m--> 313\u001b[0m sample_phis \u001b[38;5;241m=\u001b[39m \u001b[38;5;28;43mself\u001b[39;49m\u001b[38;5;241;43m.\u001b[39;49m\u001b[43mrun\u001b[49m\u001b[43m(\u001b[49m\u001b[38;5;28;43mself\u001b[39;49m\u001b[38;5;241;43m.\u001b[39;49m\u001b[43mphi_symbolic\u001b[49m\u001b[43m(\u001b[49m\u001b[43mfeature_ind\u001b[49m\u001b[43m)\u001b[49m\u001b[43m,\u001b[49m\u001b[43m \u001b[49m\u001b[38;5;28;43mself\u001b[39;49m\u001b[38;5;241;43m.\u001b[39;49m\u001b[43mmodel_inputs\u001b[49m\u001b[43m,\u001b[49m\u001b[43m \u001b[49m\u001b[43mjoint_input\u001b[49m\u001b[43m)\u001b[49m\n\u001b[1;32m    315\u001b[0m \u001b[38;5;66;03m# assign the attributions to the right part of the output arrays\u001b[39;00m\n\u001b[1;32m    316\u001b[0m \u001b[38;5;28;01mfor\u001b[39;00m t \u001b[38;5;129;01min\u001b[39;00m \u001b[38;5;28mrange\u001b[39m(\u001b[38;5;28mlen\u001b[39m(X)):\n",
      "File \u001b[0;32m~/.local/lib/python3.10/site-packages/shap/explainers/_deep/deep_tf.py:364\u001b[0m, in \u001b[0;36mTFDeep.run\u001b[0;34m(self, out, model_inputs, X)\u001b[0m\n\u001b[1;32m    361\u001b[0m         tf_execute\u001b[38;5;241m.\u001b[39mrecord_gradient \u001b[38;5;241m=\u001b[39m tf_backprop\u001b[38;5;241m.\u001b[39mrecord_gradient\n\u001b[1;32m    363\u001b[0m     \u001b[38;5;28;01mreturn\u001b[39;00m final_out\n\u001b[0;32m--> 364\u001b[0m \u001b[38;5;28;01mreturn\u001b[39;00m \u001b[38;5;28;43mself\u001b[39;49m\u001b[38;5;241;43m.\u001b[39;49m\u001b[43mexecute_with_overridden_gradients\u001b[49m\u001b[43m(\u001b[49m\u001b[43manon\u001b[49m\u001b[43m)\u001b[49m\n",
      "File \u001b[0;32m~/.local/lib/python3.10/site-packages/shap/explainers/_deep/deep_tf.py:400\u001b[0m, in \u001b[0;36mTFDeep.execute_with_overridden_gradients\u001b[0;34m(self, f)\u001b[0m\n\u001b[1;32m    398\u001b[0m \u001b[38;5;66;03m# define the computation graph for the attribution values using a custom gradient-like computation\u001b[39;00m\n\u001b[1;32m    399\u001b[0m \u001b[38;5;28;01mtry\u001b[39;00m:\n\u001b[0;32m--> 400\u001b[0m     out \u001b[38;5;241m=\u001b[39m \u001b[43mf\u001b[49m\u001b[43m(\u001b[49m\u001b[43m)\u001b[49m\n\u001b[1;32m    401\u001b[0m \u001b[38;5;28;01mfinally\u001b[39;00m:\n\u001b[1;32m    402\u001b[0m     \u001b[38;5;66;03m# reinstate the backpropagatable check\u001b[39;00m\n\u001b[1;32m    403\u001b[0m     \u001b[38;5;28;01mif\u001b[39;00m \u001b[38;5;28mhasattr\u001b[39m(tf_gradients_impl, \u001b[38;5;124m\"\u001b[39m\u001b[38;5;124m_IsBackpropagatable\u001b[39m\u001b[38;5;124m\"\u001b[39m):\n",
      "File \u001b[0;32m~/.local/lib/python3.10/site-packages/shap/explainers/_deep/deep_tf.py:357\u001b[0m, in \u001b[0;36mTFDeep.run.<locals>.anon\u001b[0;34m()\u001b[0m\n\u001b[1;32m    355\u001b[0m     v \u001b[38;5;241m=\u001b[39m tf\u001b[38;5;241m.\u001b[39mconstant(data, dtype\u001b[38;5;241m=\u001b[39m\u001b[38;5;28mself\u001b[39m\u001b[38;5;241m.\u001b[39mmodel_inputs[i]\u001b[38;5;241m.\u001b[39mdtype)\n\u001b[1;32m    356\u001b[0m     inputs\u001b[38;5;241m.\u001b[39mappend(v)\n\u001b[0;32m--> 357\u001b[0m final_out \u001b[38;5;241m=\u001b[39m \u001b[43mout\u001b[49m\u001b[43m(\u001b[49m\u001b[43minputs\u001b[49m\u001b[43m)\u001b[49m\n\u001b[1;32m    358\u001b[0m \u001b[38;5;28;01mtry\u001b[39;00m:\n\u001b[1;32m    359\u001b[0m     tf_execute\u001b[38;5;241m.\u001b[39mrecord_gradient \u001b[38;5;241m=\u001b[39m tf_backprop\u001b[38;5;241m.\u001b[39m_record_gradient\n",
      "File \u001b[0;32m/usr/local/lib/python3.10/dist-packages/tensorflow/python/util/traceback_utils.py:153\u001b[0m, in \u001b[0;36mfilter_traceback.<locals>.error_handler\u001b[0;34m(*args, **kwargs)\u001b[0m\n\u001b[1;32m    151\u001b[0m \u001b[38;5;28;01mexcept\u001b[39;00m \u001b[38;5;167;01mException\u001b[39;00m \u001b[38;5;28;01mas\u001b[39;00m e:\n\u001b[1;32m    152\u001b[0m   filtered_tb \u001b[38;5;241m=\u001b[39m _process_traceback_frames(e\u001b[38;5;241m.\u001b[39m__traceback__)\n\u001b[0;32m--> 153\u001b[0m   \u001b[38;5;28;01mraise\u001b[39;00m e\u001b[38;5;241m.\u001b[39mwith_traceback(filtered_tb) \u001b[38;5;28;01mfrom\u001b[39;00m \u001b[38;5;28;01mNone\u001b[39;00m\n\u001b[1;32m    154\u001b[0m \u001b[38;5;28;01mfinally\u001b[39;00m:\n\u001b[1;32m    155\u001b[0m   \u001b[38;5;28;01mdel\u001b[39;00m filtered_tb\n",
      "File \u001b[0;32m/tmp/__autograph_generated_file5u97ftcr.py:16\u001b[0m, in \u001b[0;36mouter_factory.<locals>.inner_factory.<locals>.tf__grad_graph\u001b[0;34m(shap_rAnD)\u001b[0m\n\u001b[1;32m     14\u001b[0m \u001b[38;5;28;01mwith\u001b[39;00m ag__\u001b[38;5;241m.\u001b[39mld(tf)\u001b[38;5;241m.\u001b[39mGradientTape(watch_accessed_variables\u001b[38;5;241m=\u001b[39m\u001b[38;5;28;01mFalse\u001b[39;00m) \u001b[38;5;28;01mas\u001b[39;00m tape:\n\u001b[1;32m     15\u001b[0m     ag__\u001b[38;5;241m.\u001b[39mconverted_call(ag__\u001b[38;5;241m.\u001b[39mld(tape)\u001b[38;5;241m.\u001b[39mwatch, (ag__\u001b[38;5;241m.\u001b[39mld(shap_rAnD),), \u001b[38;5;28;01mNone\u001b[39;00m, fscope)\n\u001b[0;32m---> 16\u001b[0m     out \u001b[38;5;241m=\u001b[39m \u001b[43mag__\u001b[49m\u001b[38;5;241;43m.\u001b[39;49m\u001b[43mconverted_call\u001b[49m\u001b[43m(\u001b[49m\u001b[43mag__\u001b[49m\u001b[38;5;241;43m.\u001b[39;49m\u001b[43mld\u001b[49m\u001b[43m(\u001b[49m\u001b[38;5;28;43mself\u001b[39;49m\u001b[43m)\u001b[49m\u001b[38;5;241;43m.\u001b[39;49m\u001b[43mmodel\u001b[49m\u001b[43m,\u001b[49m\u001b[43m \u001b[49m\u001b[43m(\u001b[49m\u001b[43mag__\u001b[49m\u001b[38;5;241;43m.\u001b[39;49m\u001b[43mld\u001b[49m\u001b[43m(\u001b[49m\u001b[43mshap_rAnD\u001b[49m\u001b[43m)\u001b[49m\u001b[43m,\u001b[49m\u001b[43m)\u001b[49m\u001b[43m,\u001b[49m\u001b[43m \u001b[49m\u001b[38;5;28;43;01mNone\u001b[39;49;00m\u001b[43m,\u001b[49m\u001b[43m \u001b[49m\u001b[43mfscope\u001b[49m\u001b[43m)\u001b[49m\n\u001b[1;32m     18\u001b[0m     \u001b[38;5;28;01mdef\u001b[39;00m \u001b[38;5;21mget_state\u001b[39m():\n\u001b[1;32m     19\u001b[0m         \u001b[38;5;28;01mreturn\u001b[39;00m (out,)\n",
      "File \u001b[0;32m/usr/local/lib/python3.10/dist-packages/keras/src/utils/traceback_utils.py:70\u001b[0m, in \u001b[0;36mfilter_traceback.<locals>.error_handler\u001b[0;34m(*args, **kwargs)\u001b[0m\n\u001b[1;32m     67\u001b[0m     filtered_tb \u001b[38;5;241m=\u001b[39m _process_traceback_frames(e\u001b[38;5;241m.\u001b[39m__traceback__)\n\u001b[1;32m     68\u001b[0m     \u001b[38;5;66;03m# To get the full stack trace, call:\u001b[39;00m\n\u001b[1;32m     69\u001b[0m     \u001b[38;5;66;03m# `tf.debugging.disable_traceback_filtering()`\u001b[39;00m\n\u001b[0;32m---> 70\u001b[0m     \u001b[38;5;28;01mraise\u001b[39;00m e\u001b[38;5;241m.\u001b[39mwith_traceback(filtered_tb) \u001b[38;5;28;01mfrom\u001b[39;00m \u001b[38;5;28;01mNone\u001b[39;00m\n\u001b[1;32m     71\u001b[0m \u001b[38;5;28;01mfinally\u001b[39;00m:\n\u001b[1;32m     72\u001b[0m     \u001b[38;5;28;01mdel\u001b[39;00m filtered_tb\n",
      "File \u001b[0;32m~/.local/lib/python3.10/site-packages/shap/explainers/_deep/deep_tf.py:370\u001b[0m, in \u001b[0;36mTFDeep.custom_grad\u001b[0;34m(self, op, *grads)\u001b[0m\n\u001b[1;32m    367\u001b[0m \u001b[38;5;250m\u001b[39m\u001b[38;5;124;03m\"\"\" Passes a gradient op creation request to the correct handler.\u001b[39;00m\n\u001b[1;32m    368\u001b[0m \u001b[38;5;124;03m\"\"\"\u001b[39;00m\n\u001b[1;32m    369\u001b[0m type_name \u001b[38;5;241m=\u001b[39m op\u001b[38;5;241m.\u001b[39mtype[\u001b[38;5;241m5\u001b[39m:] \u001b[38;5;28;01mif\u001b[39;00m op\u001b[38;5;241m.\u001b[39mtype\u001b[38;5;241m.\u001b[39mstartswith(\u001b[38;5;124m\"\u001b[39m\u001b[38;5;124mshap_\u001b[39m\u001b[38;5;124m\"\u001b[39m) \u001b[38;5;28;01melse\u001b[39;00m op\u001b[38;5;241m.\u001b[39mtype\n\u001b[0;32m--> 370\u001b[0m out \u001b[38;5;241m=\u001b[39m \u001b[43mop_handlers\u001b[49m\u001b[43m[\u001b[49m\u001b[43mtype_name\u001b[49m\u001b[43m]\u001b[49m\u001b[43m(\u001b[49m\u001b[38;5;28;43mself\u001b[39;49m\u001b[43m,\u001b[49m\u001b[43m \u001b[49m\u001b[43mop\u001b[49m\u001b[43m,\u001b[49m\u001b[43m \u001b[49m\u001b[38;5;241;43m*\u001b[39;49m\u001b[43mgrads\u001b[49m\u001b[43m)\u001b[49m \u001b[38;5;66;03m# we cut off the shap_ prefix before the lookup\u001b[39;00m\n\u001b[1;32m    371\u001b[0m \u001b[38;5;28;01mreturn\u001b[39;00m out\n",
      "File \u001b[0;32m~/.local/lib/python3.10/site-packages/shap/explainers/_deep/deep_tf.py:662\u001b[0m, in \u001b[0;36mlinearity_with_excluded.<locals>.handler\u001b[0;34m(explainer, op, *grads)\u001b[0m\n\u001b[1;32m    661\u001b[0m \u001b[38;5;28;01mdef\u001b[39;00m \u001b[38;5;21mhandler\u001b[39m(explainer, op, \u001b[38;5;241m*\u001b[39mgrads):\n\u001b[0;32m--> 662\u001b[0m     \u001b[38;5;28;01mreturn\u001b[39;00m \u001b[43mlinearity_with_excluded_handler\u001b[49m\u001b[43m(\u001b[49m\u001b[43minput_inds\u001b[49m\u001b[43m,\u001b[49m\u001b[43m \u001b[49m\u001b[43mexplainer\u001b[49m\u001b[43m,\u001b[49m\u001b[43m \u001b[49m\u001b[43mop\u001b[49m\u001b[43m,\u001b[49m\u001b[43m \u001b[49m\u001b[38;5;241;43m*\u001b[39;49m\u001b[43mgrads\u001b[49m\u001b[43m)\u001b[49m\n",
      "File \u001b[0;32m~/.local/lib/python3.10/site-packages/shap/explainers/_deep/deep_tf.py:669\u001b[0m, in \u001b[0;36mlinearity_with_excluded_handler\u001b[0;34m(input_inds, explainer, op, *grads)\u001b[0m\n\u001b[1;32m    667\u001b[0m \u001b[38;5;28;01mfor\u001b[39;00m i \u001b[38;5;129;01min\u001b[39;00m \u001b[38;5;28mrange\u001b[39m(\u001b[38;5;28mlen\u001b[39m(op\u001b[38;5;241m.\u001b[39minputs)):\n\u001b[1;32m    668\u001b[0m     \u001b[38;5;28;01mif\u001b[39;00m i \u001b[38;5;129;01min\u001b[39;00m input_inds \u001b[38;5;129;01mor\u001b[39;00m i \u001b[38;5;241m-\u001b[39m \u001b[38;5;28mlen\u001b[39m(op\u001b[38;5;241m.\u001b[39minputs) \u001b[38;5;129;01min\u001b[39;00m input_inds:\n\u001b[0;32m--> 669\u001b[0m         \u001b[38;5;28;01massert\u001b[39;00m \u001b[38;5;129;01mnot\u001b[39;00m \u001b[43mexplainer\u001b[49m\u001b[38;5;241;43m.\u001b[39;49m\u001b[43m_variable_inputs\u001b[49m\u001b[43m(\u001b[49m\u001b[43mop\u001b[49m\u001b[43m)\u001b[49m[i], \u001b[38;5;28mstr\u001b[39m(i) \u001b[38;5;241m+\u001b[39m \u001b[38;5;124m\"\u001b[39m\u001b[38;5;124mth input to \u001b[39m\u001b[38;5;124m\"\u001b[39m \u001b[38;5;241m+\u001b[39m op\u001b[38;5;241m.\u001b[39mname \u001b[38;5;241m+\u001b[39m \u001b[38;5;124m\"\u001b[39m\u001b[38;5;124m cannot vary!\u001b[39m\u001b[38;5;124m\"\u001b[39m\n\u001b[1;32m    670\u001b[0m \u001b[38;5;28;01mif\u001b[39;00m op\u001b[38;5;241m.\u001b[39mtype\u001b[38;5;241m.\u001b[39mstartswith(\u001b[38;5;124m\"\u001b[39m\u001b[38;5;124mshap_\u001b[39m\u001b[38;5;124m\"\u001b[39m):\n\u001b[1;32m    671\u001b[0m     op\u001b[38;5;241m.\u001b[39mtype \u001b[38;5;241m=\u001b[39m op\u001b[38;5;241m.\u001b[39mtype[\u001b[38;5;241m5\u001b[39m:]\n",
      "File \u001b[0;32m~/.local/lib/python3.10/site-packages/shap/explainers/_deep/deep_tf.py:224\u001b[0m, in \u001b[0;36mTFDeep._variable_inputs\u001b[0;34m(self, op)\u001b[0m\n\u001b[1;32m    222\u001b[0m     out \u001b[38;5;241m=\u001b[39m np\u001b[38;5;241m.\u001b[39mzeros(\u001b[38;5;28mlen\u001b[39m(op\u001b[38;5;241m.\u001b[39minputs), dtype\u001b[38;5;241m=\u001b[39m\u001b[38;5;28mbool\u001b[39m)\n\u001b[1;32m    223\u001b[0m     \u001b[38;5;28;01mfor\u001b[39;00m i,t \u001b[38;5;129;01min\u001b[39;00m \u001b[38;5;28menumerate\u001b[39m(op\u001b[38;5;241m.\u001b[39minputs):\n\u001b[0;32m--> 224\u001b[0m         out[i] \u001b[38;5;241m=\u001b[39m t\u001b[38;5;241m.\u001b[39mname \u001b[38;5;129;01min\u001b[39;00m \u001b[38;5;28;43mself\u001b[39;49m\u001b[38;5;241;43m.\u001b[39;49m\u001b[43mbetween_tensors\u001b[49m\n\u001b[1;32m    225\u001b[0m     \u001b[38;5;28mself\u001b[39m\u001b[38;5;241m.\u001b[39m_vinputs[op] \u001b[38;5;241m=\u001b[39m out\n\u001b[1;32m    226\u001b[0m \u001b[38;5;28;01mreturn\u001b[39;00m \u001b[38;5;28mself\u001b[39m\u001b[38;5;241m.\u001b[39m_vinputs[op]\n",
      "\u001b[0;31mAttributeError\u001b[0m: in user code:\n\n    File \"/home/gperri-ext/.local/lib/python3.10/site-packages/shap/explainers/_deep/deep_tf.py\", line 247, in grad_graph  *\n        out = self.model(shap_rAnD)\n    File \"/usr/local/lib/python3.10/dist-packages/keras/src/utils/traceback_utils.py\", line 70, in error_handler  **\n        raise e.with_traceback(filtered_tb) from None\n    File \"/home/gperri-ext/.local/lib/python3.10/site-packages/shap/explainers/_deep/deep_tf.py\", line 370, in custom_grad\n        out = op_handlers[type_name](self, op, *grads) # we cut off the shap_ prefix before the lookup\n    File \"/home/gperri-ext/.local/lib/python3.10/site-packages/shap/explainers/_deep/deep_tf.py\", line 662, in handler\n        return linearity_with_excluded_handler(input_inds, explainer, op, *grads)\n    File \"/home/gperri-ext/.local/lib/python3.10/site-packages/shap/explainers/_deep/deep_tf.py\", line 669, in linearity_with_excluded_handler\n        assert not explainer._variable_inputs(op)[i], str(i) + \"th input to \" + op.name + \" cannot vary!\"\n    File \"/home/gperri-ext/.local/lib/python3.10/site-packages/shap/explainers/_deep/deep_tf.py\", line 224, in _variable_inputs\n        out[i] = t.name in self.between_tensors\n\n    AttributeError: Exception encountered when calling layer 'lstm' (type LSTM).\n    \n    'TFDeep' object has no attribute 'between_tensors'\n    \n    Call arguments received by layer 'lstm' (type LSTM):\n      • inputs=tf.Tensor(shape=(200, 24, 10), dtype=float32)\n      • mask=None\n      • training=False\n      • initial_state=None\n"
     ]
    }
   ],
   "source": [
    "# explain the first 10 predictions\n",
    "# explaining each prediction requires 2 * background dataset size runs\n",
    "shap_values = explainer.shap_values(X_test[:10])"
   ]
  },
  {
   "cell_type": "code",
   "execution_count": null,
   "metadata": {},
   "outputs": [],
   "source": []
  },
  {
   "cell_type": "code",
   "execution_count": null,
   "metadata": {},
   "outputs": [],
   "source": []
  },
  {
   "cell_type": "markdown",
   "metadata": {},
   "source": [
    "### Multivariate"
   ]
  },
  {
   "cell_type": "code",
   "execution_count": null,
   "metadata": {},
   "outputs": [],
   "source": [
    "tf.keras.backend.clear_session()\n",
    "multivariate_lstm = tf.keras.Sequential()\n",
    "\n",
    "# multivariate_lstm.add(LSTM(200, input_shape=input_shape, return_sequences=True)) \n",
    "# multivariate_lstm.add(Dropout(0.2))\n",
    "\n",
    "multivariate_lstm.add(LSTM(100, input_shape=input_shape)) \n",
    "multivariate_lstm.add(Dropout(0.2))\n",
    "\n",
    "\n",
    "# multivariate_lstm.add(Activation(custom_activation,name = \"Swish\"))\n",
    "# multivariate_lstm.add(Dense(100))\n",
    "multivariate_lstm.add(Dense(target_size))\n",
    "\n",
    "\n",
    "\n",
    "multivariate_lstm.summary()"
   ]
  },
  {
   "cell_type": "code",
   "execution_count": null,
   "metadata": {},
   "outputs": [],
   "source": [
    "# Callback per il salvataggio del modello\n",
    "# lstm_checkpoint = ModelCheckpoint('multivariate_lstm_df_gas.h5', monitor='val_loss', save_best_only=True)\n",
    "\n",
    "multivariate_lstm.compile(loss='mean_squared_error', optimizer='adam', metrics=[tf.keras.metrics.RootMeanSquaredError()]) \n",
    "# multivariate_lstm.compile(loss='mean_squared_error', optimizer=tf.keras.optimizers.SGD(1e-8, momentum=0.9) , metrics=[tf.keras.metrics.RootMeanSquaredError()]) \n",
    "\n",
    "# Vuole questa metrica altrimenti fa capricci con la stringa\n",
    "# y_train = np.reshape(y_train, (y_train.shape[0], y_train.shape[1]), 1)\n",
    "\n",
    "\n",
    "lr_schedule = tf.keras.callbacks.LearningRateScheduler(\n",
    "            lambda epoch: 1e-5 * 10**(epoch/20))\n",
    "\n",
    "early_stopping = EarlyStopping(monitor='val_loss', patience=10, min_delta=0.0002, restore_best_weights=True)"
   ]
  },
  {
   "cell_type": "code",
   "execution_count": null,
   "metadata": {},
   "outputs": [],
   "source": [
    "\n",
    "history = multivariate_lstm.fit(X_train, y_train, epochs=50, verbose=1,\n",
    "                                validation_split=0.2, batch_size=64,\n",
    "                                callbacks=[early_stopping, lr_schedule])\n",
    "\n",
    "plot_model_rmse_and_loss(history)\n"
   ]
  },
  {
   "cell_type": "code",
   "execution_count": null,
   "metadata": {},
   "outputs": [],
   "source": [
    "# multivariate_lstm = tf.keras.models.load_model('multivariate_lstm.h5')\n",
    "\n",
    "forecast = multivariate_lstm.predict(X_test)\n",
    "lstm_forecast = y_sc.inverse_transform(forecast)\n"
   ]
  },
  {
   "cell_type": "code",
   "execution_count": null,
   "metadata": {},
   "outputs": [],
   "source": [
    "lstm_table = evaluate_and_plot_timeseries(y_test_inv, lstm_forecast, show_plot=True)"
   ]
  },
  {
   "cell_type": "code",
   "execution_count": null,
   "metadata": {},
   "outputs": [],
   "source": [
    "plot_error_metrics_barchart(lstm_table)\n"
   ]
  },
  {
   "cell_type": "code",
   "execution_count": null,
   "metadata": {},
   "outputs": [],
   "source": []
  },
  {
   "cell_type": "markdown",
   "metadata": {},
   "source": [
    "### Hyperparameters search"
   ]
  },
  {
   "cell_type": "code",
   "execution_count": null,
   "metadata": {},
   "outputs": [],
   "source": [
    "# Define the model function\n",
    "def build_model(hp):\n",
    "  model = tf.keras.Sequential()\n",
    "  # Choose the number of LSTM layers between 1 and 3\n",
    "  for i in range(hp.Int('num_layers', min_value=1, max_value=3)):\n",
    "    # Choose the number of LSTM units between 50 and 200\n",
    "    # Check the value of num_layers to set return_sequences\n",
    "    if hp.get('num_layers') == 1:\n",
    "      model.add(LSTM(hp.Int('units_' + str(i), min_value=50, max_value=200, step=50), input_shape=(X_train.shape[1], X_train.shape[2]), return_sequences=False))\n",
    "    else:\n",
    "      model.add(LSTM(hp.Int('units_' + str(i), min_value=50, max_value=200, step=50), input_shape=(X_train.shape[1], X_train.shape[2]), return_sequences=True))\n",
    "    # Choose the dropout between 0 and 0.5\n",
    "    model.add(Dropout(hp.Float('dropout_' + str(i), min_value=0, max_value=0.5, step=0.1)))\n",
    "  # Add the output layer with one neuron for each hour to predict\n",
    "  model.add(Dense(y_train.shape[1]))\n",
    "  # Compile the model using adam as optimizer and mean_squared_error as loss function\n",
    "  model.compile(optimizer='adam', loss='mean_squared_error')\n",
    "  return model"
   ]
  },
  {
   "cell_type": "code",
   "execution_count": null,
   "metadata": {},
   "outputs": [],
   "source": [
    "early_stopping = EarlyStopping(monitor='val_loss', patience=10, min_delta=0.0002, restore_best_weights=True)\n",
    "\n",
    "tuner = kt.BayesianOptimization(build_model, objective='val_loss', max_trials=10, \n",
    "                                num_initial_points=2, beta=2.6, project_name='LSTM_tuning_multivariate')\n",
    "\n",
    "tuner.search(X_train, y_train, epochs=40, batch_size=64, validation_split=0.2, callbacks = [early_stopping], verbose=2)\n",
    "best_model = tuner.get_best_models()[0]"
   ]
  },
  {
   "cell_type": "code",
   "execution_count": null,
   "metadata": {},
   "outputs": [],
   "source": [
    "# Get the best hyperparameters\n",
    "best_hps = tuner.get_best_hyperparameters()[0]\n",
    "# Print the values of each hyperparameter\n",
    "print(\"Best number of layers:\", best_hps.get(\"num_layers\"))\n",
    "print(\"Best number of units for layer 0:\", best_hps.get(\"units_0\"))\n",
    "print(\"Best dropout for layer 0:\", best_hps.get(\"dropout_0\"))\n",
    "# Repeat for the other layers if num_layers > 1\n"
   ]
  },
  {
   "cell_type": "code",
   "execution_count": null,
   "metadata": {},
   "outputs": [],
   "source": [
    "tuned_forecast = best_model.predict(X_test)\n",
    "\n",
    "# Denormalizza le previsioni\n",
    "tuned_uni_lstm_forecast = y_sc.inverse_transform(tuned_forecast)"
   ]
  },
  {
   "cell_type": "code",
   "execution_count": null,
   "metadata": {},
   "outputs": [],
   "source": [
    "y_test_inv_uni = y_sc.inverse_transform(y_test.squeeze(-1))"
   ]
  },
  {
   "cell_type": "code",
   "execution_count": null,
   "metadata": {},
   "outputs": [],
   "source": [
    "null_indices = np.where(y_test_inv_uni[:,0] == 0)"
   ]
  },
  {
   "cell_type": "code",
   "execution_count": null,
   "metadata": {},
   "outputs": [],
   "source": [
    "y_test_inv_uni[null_indices, 0] = 5"
   ]
  },
  {
   "cell_type": "code",
   "execution_count": null,
   "metadata": {},
   "outputs": [],
   "source": [
    "# y_test_inv_uni = scaler.inverse_transform(y_test)\n",
    "uni_table = evaluate_and_plot_timeseries(y_test_inv_uni, tuned_uni_lstm_forecast, show_plot=True)"
   ]
  },
  {
   "cell_type": "code",
   "execution_count": null,
   "metadata": {},
   "outputs": [],
   "source": [
    "plot_error_metrics_barchart(uni_table)"
   ]
  },
  {
   "cell_type": "code",
   "execution_count": null,
   "metadata": {},
   "outputs": [],
   "source": []
  }
 ],
 "metadata": {
  "kernelspec": {
   "display_name": "Python 3",
   "language": "python",
   "name": "python3"
  },
  "language_info": {
   "codemirror_mode": {
    "name": "ipython",
    "version": 3
   },
   "file_extension": ".py",
   "mimetype": "text/x-python",
   "name": "python",
   "nbconvert_exporter": "python",
   "pygments_lexer": "ipython3",
   "version": "3.10.6"
  }
 },
 "nbformat": 4,
 "nbformat_minor": 2
}
