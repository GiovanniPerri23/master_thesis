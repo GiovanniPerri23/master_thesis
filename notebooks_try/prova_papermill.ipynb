{
 "cells": [
  {
   "cell_type": "markdown",
   "id": "5f8be566",
   "metadata": {
    "tags": [
     "papermill-error-cell-tag"
    ]
   },
   "source": [
    "<span style=\"color:red; font-family:Helvetica Neue, Helvetica, Arial, sans-serif; font-size:2em;\">An Exception was encountered at '<a href=\"#papermill-error-cell\">In [4]</a>'.</span>"
   ]
  },
  {
   "cell_type": "code",
   "execution_count": 1,
   "id": "fd87b6b8",
   "metadata": {
    "execution": {
     "iopub.execute_input": "2024-02-15T09:47:48.467067Z",
     "iopub.status.busy": "2024-02-15T09:47:48.466605Z",
     "iopub.status.idle": "2024-02-15T09:47:48.800999Z",
     "shell.execute_reply": "2024-02-15T09:47:48.799757Z"
    },
    "papermill": {
     "duration": 0.342377,
     "end_time": "2024-02-15T09:47:48.803357",
     "exception": false,
     "start_time": "2024-02-15T09:47:48.460980",
     "status": "completed"
    },
    "tags": []
   },
   "outputs": [],
   "source": [
    "import time\n",
    "import papermill as pm"
   ]
  },
  {
   "cell_type": "code",
   "execution_count": 2,
   "id": "5380ccbe",
   "metadata": {
    "execution": {
     "iopub.execute_input": "2024-02-15T09:47:48.810374Z",
     "iopub.status.busy": "2024-02-15T09:47:48.810028Z",
     "iopub.status.idle": "2024-02-15T09:47:48.815484Z",
     "shell.execute_reply": "2024-02-15T09:47:48.814711Z"
    },
    "papermill": {
     "duration": 0.011662,
     "end_time": "2024-02-15T09:47:48.817519",
     "exception": false,
     "start_time": "2024-02-15T09:47:48.805857",
     "status": "completed"
    },
    "tags": []
   },
   "outputs": [
    {
     "name": "stdout",
     "output_type": "stream",
     "text": [
      "Starting the notebook\n"
     ]
    }
   ],
   "source": [
    "print(\"Starting the notebook\")"
   ]
  },
  {
   "cell_type": "code",
   "execution_count": 3,
   "id": "bc93ff02",
   "metadata": {
    "execution": {
     "iopub.execute_input": "2024-02-15T09:47:48.822926Z",
     "iopub.status.busy": "2024-02-15T09:47:48.822668Z",
     "iopub.status.idle": "2024-02-15T09:48:08.850114Z",
     "shell.execute_reply": "2024-02-15T09:48:08.848651Z"
    },
    "papermill": {
     "duration": 20.033794,
     "end_time": "2024-02-15T09:48:08.853436",
     "exception": false,
     "start_time": "2024-02-15T09:47:48.819642",
     "status": "completed"
    },
    "tags": []
   },
   "outputs": [
    {
     "name": "stdout",
     "output_type": "stream",
     "text": [
      "0\n"
     ]
    },
    {
     "name": "stdout",
     "output_type": "stream",
     "text": [
      "1\n"
     ]
    },
    {
     "name": "stdout",
     "output_type": "stream",
     "text": [
      "2\n"
     ]
    },
    {
     "name": "stdout",
     "output_type": "stream",
     "text": [
      "3\n"
     ]
    },
    {
     "name": "stdout",
     "output_type": "stream",
     "text": [
      "4\n"
     ]
    },
    {
     "name": "stdout",
     "output_type": "stream",
     "text": [
      "5\n"
     ]
    },
    {
     "name": "stdout",
     "output_type": "stream",
     "text": [
      "6\n"
     ]
    },
    {
     "name": "stdout",
     "output_type": "stream",
     "text": [
      "7\n"
     ]
    },
    {
     "name": "stdout",
     "output_type": "stream",
     "text": [
      "8\n"
     ]
    },
    {
     "name": "stdout",
     "output_type": "stream",
     "text": [
      "9\n"
     ]
    },
    {
     "name": "stdout",
     "output_type": "stream",
     "text": [
      "10\n"
     ]
    },
    {
     "name": "stdout",
     "output_type": "stream",
     "text": [
      "11\n"
     ]
    },
    {
     "name": "stdout",
     "output_type": "stream",
     "text": [
      "12\n"
     ]
    },
    {
     "name": "stdout",
     "output_type": "stream",
     "text": [
      "13\n"
     ]
    },
    {
     "name": "stdout",
     "output_type": "stream",
     "text": [
      "14\n"
     ]
    },
    {
     "name": "stdout",
     "output_type": "stream",
     "text": [
      "15\n"
     ]
    },
    {
     "name": "stdout",
     "output_type": "stream",
     "text": [
      "16\n"
     ]
    },
    {
     "name": "stdout",
     "output_type": "stream",
     "text": [
      "17\n"
     ]
    },
    {
     "name": "stdout",
     "output_type": "stream",
     "text": [
      "18\n"
     ]
    },
    {
     "name": "stdout",
     "output_type": "stream",
     "text": [
      "19\n"
     ]
    }
   ],
   "source": [
    "for n in range(20):\n",
    "    print(n)\n",
    "    time.sleep(1)"
   ]
  },
  {
   "cell_type": "markdown",
   "id": "15983c01",
   "metadata": {
    "tags": [
     "papermill-error-cell-tag"
    ]
   },
   "source": [
    "<span id=\"papermill-error-cell\" style=\"color:red; font-family:Helvetica Neue, Helvetica, Arial, sans-serif; font-size:2em;\">Execution using papermill encountered an exception here and stopped:</span>"
   ]
  },
  {
   "cell_type": "code",
   "execution_count": 4,
   "id": "127a285e",
   "metadata": {
    "execution": {
     "iopub.execute_input": "2024-02-15T09:48:08.867835Z",
     "iopub.status.busy": "2024-02-15T09:48:08.867420Z",
     "iopub.status.idle": "2024-02-15T09:48:09.200099Z",
     "shell.execute_reply": "2024-02-15T09:48:09.198761Z"
    },
    "papermill": {
     "duration": 0.341929,
     "end_time": "2024-02-15T09:48:09.201923",
     "exception": true,
     "start_time": "2024-02-15T09:48:08.859994",
     "status": "failed"
    },
    "tags": []
   },
   "outputs": [
    {
     "ename": "KeyboardInterrupt",
     "evalue": "Fine lettura",
     "output_type": "error",
     "traceback": [
      "\u001b[0;31m---------------------------------------------------------------------------\u001b[0m",
      "\u001b[0;31mKeyboardInterrupt\u001b[0m                         Traceback (most recent call last)",
      "Cell \u001b[0;32mIn[4], line 2\u001b[0m\n\u001b[1;32m      1\u001b[0m \u001b[38;5;66;03m# per mandarlo su papermill, devo provare ancora\u001b[39;00m\n\u001b[0;32m----> 2\u001b[0m \u001b[38;5;28;01mraise\u001b[39;00m \u001b[38;5;167;01mKeyboardInterrupt\u001b[39;00m(\u001b[38;5;124m\"\u001b[39m\u001b[38;5;124mFine lettura\u001b[39m\u001b[38;5;124m\"\u001b[39m)\n",
      "\u001b[0;31mKeyboardInterrupt\u001b[0m: Fine lettura"
     ]
    }
   ],
   "source": [
    "# per mandarlo su papermill, devo provare ancora\n",
    "raise KeyboardInterrupt(\"Fine lettura\")"
   ]
  },
  {
   "cell_type": "code",
   "execution_count": null,
   "id": "2db425bc",
   "metadata": {
    "papermill": {
     "duration": null,
     "end_time": null,
     "exception": null,
     "start_time": null,
     "status": "pending"
    },
    "tags": []
   },
   "outputs": [],
   "source": [
    "print('e invece no, non è finita la lettura')"
   ]
  }
 ],
 "metadata": {
  "kernelspec": {
   "display_name": "Python 3",
   "language": "python",
   "name": "python3"
  },
  "language_info": {
   "codemirror_mode": {
    "name": "ipython",
    "version": 3
   },
   "file_extension": ".py",
   "mimetype": "text/x-python",
   "name": "python",
   "nbconvert_exporter": "python",
   "pygments_lexer": "ipython3",
   "version": "3.10.6"
  },
  "papermill": {
   "default_parameters": {},
   "duration": 22.79164,
   "end_time": "2024-02-15T09:48:09.525959",
   "environment_variables": {},
   "exception": true,
   "input_path": "/home/gperri-ext/master_thesis_tryout-2/notebooks_try/prova_papermill.ipynb",
   "output_path": "/home/gperri-ext/master_thesis_tryout-2/notebooks_try/prova_papermill.ipynb",
   "parameters": {},
   "start_time": "2024-02-15T09:47:46.734319",
   "version": "2.4.0"
  }
 },
 "nbformat": 4,
 "nbformat_minor": 5
}